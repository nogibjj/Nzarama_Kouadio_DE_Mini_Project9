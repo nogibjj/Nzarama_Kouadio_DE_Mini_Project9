{
 "cells": [
  {
   "cell_type": "markdown",
   "metadata": {
    "colab_type": "text",
    "id": "view-in-github"
   },
   "source": [
    "<a href=\"https://colab.research.google.com/github/nzarama-kouadio/Nzarama_Kouadio_DE_Mini_Project9/blob/main/Mini_Project_9.ipynb\" target=\"_parent\"><img src=\"https://colab.research.google.com/assets/colab-badge.svg\" alt=\"Open In Colab\"/></a>"
   ]
  },
  {
   "cell_type": "markdown",
   "metadata": {
    "id": "wM62GDLcsub7"
   },
   "source": [
    "### Exercise 1\n",
    "\n",
    "Today, we will be using the ACS data we used during out first `pandas` exercise to examine the US income distribution, and how it varies by race. Note that because the US income distribution has a very small number of people with *extremely* high incomes, and the ACS is just a sample of Americans, the far right tail of the distribution will not be very well estimated. However, this data should suffice for helping to understand wealth inequality in the United States.\n",
    "\n",
    "To begin, load the ACS Data we used in our first pandas exercise. That [data can be found here](https://github.com/nickeubank/MIDS_Data/tree/master/US_AmericanCommunitySurvey). We'll be working with `US_ACS_2017_10pct_sample.dta`."
   ]
  },
  {
   "cell_type": "code",
   "execution_count": 2,
   "metadata": {
    "colab": {
     "base_uri": "https://localhost:8080/",
     "height": 508
    },
    "id": "Myelo93fsw4f",
    "outputId": "78b7b6a4-d653-4003-f314-bfc8e5006780"
   },
   "outputs": [
    {
     "data": {
      "text/html": [
       "<div>\n",
       "<style scoped>\n",
       "    .dataframe tbody tr th:only-of-type {\n",
       "        vertical-align: middle;\n",
       "    }\n",
       "\n",
       "    .dataframe tbody tr th {\n",
       "        vertical-align: top;\n",
       "    }\n",
       "\n",
       "    .dataframe thead th {\n",
       "        text-align: right;\n",
       "    }\n",
       "</style>\n",
       "<table border=\"1\" class=\"dataframe\">\n",
       "  <thead>\n",
       "    <tr style=\"text-align: right;\">\n",
       "      <th></th>\n",
       "      <th>year</th>\n",
       "      <th>datanum</th>\n",
       "      <th>serial</th>\n",
       "      <th>cbserial</th>\n",
       "      <th>numprec</th>\n",
       "      <th>subsamp</th>\n",
       "      <th>hhwt</th>\n",
       "      <th>hhtype</th>\n",
       "      <th>cluster</th>\n",
       "      <th>adjust</th>\n",
       "      <th>...</th>\n",
       "      <th>migcounty1</th>\n",
       "      <th>migmet131</th>\n",
       "      <th>vetdisab</th>\n",
       "      <th>diffrem</th>\n",
       "      <th>diffphys</th>\n",
       "      <th>diffmob</th>\n",
       "      <th>diffcare</th>\n",
       "      <th>diffsens</th>\n",
       "      <th>diffeye</th>\n",
       "      <th>diffhear</th>\n",
       "    </tr>\n",
       "  </thead>\n",
       "  <tbody>\n",
       "    <tr>\n",
       "      <th>29051</th>\n",
       "      <td>2017</td>\n",
       "      <td>1</td>\n",
       "      <td>159174</td>\n",
       "      <td>2.017001e+12</td>\n",
       "      <td>4</td>\n",
       "      <td>16</td>\n",
       "      <td>77</td>\n",
       "      <td>married-couple family household</td>\n",
       "      <td>2.017002e+12</td>\n",
       "      <td>1.011189</td>\n",
       "      <td>...</td>\n",
       "      <td>0</td>\n",
       "      <td>not in identifiable area</td>\n",
       "      <td>n/a</td>\n",
       "      <td>no cognitive difficulty</td>\n",
       "      <td>no ambulatory difficulty</td>\n",
       "      <td>n/a</td>\n",
       "      <td>no</td>\n",
       "      <td>no vision or hearing difficulty</td>\n",
       "      <td>no</td>\n",
       "      <td>no</td>\n",
       "    </tr>\n",
       "    <tr>\n",
       "      <th>33977</th>\n",
       "      <td>2017</td>\n",
       "      <td>1</td>\n",
       "      <td>119269</td>\n",
       "      <td>2.017001e+12</td>\n",
       "      <td>5</td>\n",
       "      <td>8</td>\n",
       "      <td>41</td>\n",
       "      <td>hhtype could not be determined</td>\n",
       "      <td>2.017001e+12</td>\n",
       "      <td>1.011189</td>\n",
       "      <td>...</td>\n",
       "      <td>0</td>\n",
       "      <td>not in identifiable area</td>\n",
       "      <td>n/a</td>\n",
       "      <td>n/a</td>\n",
       "      <td>n/a</td>\n",
       "      <td>n/a</td>\n",
       "      <td>n/a</td>\n",
       "      <td>no vision or hearing difficulty</td>\n",
       "      <td>no</td>\n",
       "      <td>no</td>\n",
       "    </tr>\n",
       "    <tr>\n",
       "      <th>288346</th>\n",
       "      <td>2017</td>\n",
       "      <td>1</td>\n",
       "      <td>1144958</td>\n",
       "      <td>2.017001e+12</td>\n",
       "      <td>1 person record</td>\n",
       "      <td>31</td>\n",
       "      <td>16</td>\n",
       "      <td>female householder, living alone</td>\n",
       "      <td>2.017011e+12</td>\n",
       "      <td>1.011189</td>\n",
       "      <td>...</td>\n",
       "      <td>0</td>\n",
       "      <td>not in identifiable area</td>\n",
       "      <td>n/a</td>\n",
       "      <td>has cognitive difficulty</td>\n",
       "      <td>has ambulatory difficulty</td>\n",
       "      <td>has independent living difficulty</td>\n",
       "      <td>yes</td>\n",
       "      <td>no vision or hearing difficulty</td>\n",
       "      <td>no</td>\n",
       "      <td>no</td>\n",
       "    </tr>\n",
       "    <tr>\n",
       "      <th>255687</th>\n",
       "      <td>2017</td>\n",
       "      <td>1</td>\n",
       "      <td>363277</td>\n",
       "      <td>2.017000e+12</td>\n",
       "      <td>1 person record</td>\n",
       "      <td>58</td>\n",
       "      <td>342</td>\n",
       "      <td>female householder, living alone</td>\n",
       "      <td>2.017004e+12</td>\n",
       "      <td>1.011189</td>\n",
       "      <td>...</td>\n",
       "      <td>0</td>\n",
       "      <td>not in identifiable area</td>\n",
       "      <td>n/a</td>\n",
       "      <td>no cognitive difficulty</td>\n",
       "      <td>no ambulatory difficulty</td>\n",
       "      <td>no independent living difficulty</td>\n",
       "      <td>no</td>\n",
       "      <td>no vision or hearing difficulty</td>\n",
       "      <td>no</td>\n",
       "      <td>no</td>\n",
       "    </tr>\n",
       "    <tr>\n",
       "      <th>81905</th>\n",
       "      <td>2017</td>\n",
       "      <td>1</td>\n",
       "      <td>1333962</td>\n",
       "      <td>2.017000e+12</td>\n",
       "      <td>2</td>\n",
       "      <td>4</td>\n",
       "      <td>446</td>\n",
       "      <td>male householder, no wife present</td>\n",
       "      <td>2.017013e+12</td>\n",
       "      <td>1.011189</td>\n",
       "      <td>...</td>\n",
       "      <td>53</td>\n",
       "      <td>seattle-tacoma-bellevue, wa</td>\n",
       "      <td>n/a</td>\n",
       "      <td>no cognitive difficulty</td>\n",
       "      <td>no ambulatory difficulty</td>\n",
       "      <td>no independent living difficulty</td>\n",
       "      <td>no</td>\n",
       "      <td>no vision or hearing difficulty</td>\n",
       "      <td>no</td>\n",
       "      <td>no</td>\n",
       "    </tr>\n",
       "  </tbody>\n",
       "</table>\n",
       "<p>5 rows × 104 columns</p>\n",
       "</div>"
      ],
      "text/plain": [
       "        year  datanum   serial      cbserial          numprec subsamp  hhwt  \\\n",
       "29051   2017        1   159174  2.017001e+12                4      16    77   \n",
       "33977   2017        1   119269  2.017001e+12                5       8    41   \n",
       "288346  2017        1  1144958  2.017001e+12  1 person record      31    16   \n",
       "255687  2017        1   363277  2.017000e+12  1 person record      58   342   \n",
       "81905   2017        1  1333962  2.017000e+12                2       4   446   \n",
       "\n",
       "                                   hhtype       cluster    adjust  ...  \\\n",
       "29051     married-couple family household  2.017002e+12  1.011189  ...   \n",
       "33977      hhtype could not be determined  2.017001e+12  1.011189  ...   \n",
       "288346   female householder, living alone  2.017011e+12  1.011189  ...   \n",
       "255687   female householder, living alone  2.017004e+12  1.011189  ...   \n",
       "81905   male householder, no wife present  2.017013e+12  1.011189  ...   \n",
       "\n",
       "        migcounty1                    migmet131 vetdisab  \\\n",
       "29051            0     not in identifiable area      n/a   \n",
       "33977            0     not in identifiable area      n/a   \n",
       "288346           0     not in identifiable area      n/a   \n",
       "255687           0     not in identifiable area      n/a   \n",
       "81905           53  seattle-tacoma-bellevue, wa      n/a   \n",
       "\n",
       "                         diffrem                   diffphys  \\\n",
       "29051    no cognitive difficulty   no ambulatory difficulty   \n",
       "33977                        n/a                        n/a   \n",
       "288346  has cognitive difficulty  has ambulatory difficulty   \n",
       "255687   no cognitive difficulty   no ambulatory difficulty   \n",
       "81905    no cognitive difficulty   no ambulatory difficulty   \n",
       "\n",
       "                                  diffmob diffcare  \\\n",
       "29051                                 n/a       no   \n",
       "33977                                 n/a      n/a   \n",
       "288346  has independent living difficulty      yes   \n",
       "255687   no independent living difficulty       no   \n",
       "81905    no independent living difficulty       no   \n",
       "\n",
       "                               diffsens  diffeye  diffhear  \n",
       "29051   no vision or hearing difficulty       no        no  \n",
       "33977   no vision or hearing difficulty       no        no  \n",
       "288346  no vision or hearing difficulty       no        no  \n",
       "255687  no vision or hearing difficulty       no        no  \n",
       "81905   no vision or hearing difficulty       no        no  \n",
       "\n",
       "[5 rows x 104 columns]"
      ]
     },
     "execution_count": 2,
     "metadata": {},
     "output_type": "execute_result"
    }
   ],
   "source": [
    "import pandas as pd\n",
    "import numpy as np\n",
    "\n",
    "content = pd.read_stata(\n",
    "    \"https://github.com/nickeubank/MIDS_Data/raw/refs/heads/master/US_AmericanCommunitySurvey/US_ACS_2017_10pct_sample.dta?download=\"\n",
    ")\n",
    "content.sample(5)"
   ]
  },
  {
   "cell_type": "markdown",
   "metadata": {
    "id": "X0o6WWsTs-9e"
   },
   "source": [
    "### Exercise 2\n",
    "\n",
    "Let's begin by calculating the mean US incomes from this data (recall that income is stored in the `inctot` variable). Store the answer in `results` under the key `\"ex2_avg_income\"`."
   ]
  },
  {
   "cell_type": "code",
   "execution_count": 3,
   "metadata": {
    "colab": {
     "base_uri": "https://localhost:8080/"
    },
    "id": "lwIjTGyMtB-l",
    "outputId": "e4e7edc5-2c4b-4560-aefe-1c3365d34905"
   },
   "outputs": [
    {
     "name": "stdout",
     "output_type": "stream",
     "text": [
      "The average income of our sanmple is: 1723646.27\n"
     ]
    }
   ],
   "source": [
    "ex2_avg_income = content[\"inctot\"].mean()\n",
    "print(f\"The average income of our sanmple is: {ex2_avg_income:.2f}\")"
   ]
  },
  {
   "cell_type": "markdown",
   "metadata": {
    "id": "wyNpem0TtHKZ"
   },
   "source": [
    "### Exercise 3\n",
    "\n",
    "Hmmm... That doesn't look right. The average American is definitely not earning that much a year! Let's look at the values of `inctot` using `value_counts()`. Do you see a problem?\n",
    "\n",
    "Now use `value_counts()` with the argument `normalize=True` to see proportions of the sample that report each value instead of the count of people in each category. What percentage of our sample has an income of 9,999,999? Store that proportion (between 0 and 1) as `\"ex3_share_making_9999999\"`. What percentage has an income of 0? Store that proportion as `\"ex3_share_making_zero\"`.\n",
    "\n",
    "(Recall `.value_counts()` returns a Series, so you can pull values out with our usual pandas tools.)"
   ]
  },
  {
   "cell_type": "code",
   "execution_count": 4,
   "metadata": {
    "colab": {
     "base_uri": "https://localhost:8080/"
    },
    "id": "09jQ-gxAtNXa",
    "outputId": "8bf31389-31ad-4db6-9fd7-ec973036b1df"
   },
   "outputs": [
    {
     "name": "stdout",
     "output_type": "stream",
     "text": [
      "The proportion of our sample with an income of 9_999_999 is: 0.17\n",
      "The proportion of our sample with an imcome of 0 is: 0.11\n"
     ]
    }
   ],
   "source": [
    "inctot_value_proportions = content[\"inctot\"].value_counts(normalize=True)\n",
    "\n",
    "ex3_share_making_9999999 = inctot_value_proportions.loc[9999999]\n",
    "print(\n",
    "    f\"The proportion of our sample with an income of 9_999_999 is: {ex3_share_making_9999999:.2f}\"\n",
    ")\n",
    "\n",
    "ex3_share_making_zero = inctot_value_proportions.loc[0]\n",
    "print(\n",
    "    f\"The proportion of our sample with an imcome of 0 is: {ex3_share_making_zero:.2f}\"\n",
    ")"
   ]
  },
  {
   "cell_type": "markdown",
   "metadata": {
    "id": "85aZOLY_tRoL"
   },
   "source": [
    "### Exercise 4\n",
    "\n",
    "As we discussed before, the ACS uses a value of 9999999 to denote that income information is not available for someone. The problem with using this kind of \"sentinel value\" is that pandas doesn't understand that this is supposed to denote missing data, and so when it averages the variable, it doesn't know to ignore 9999999.\n",
    "\n",
    "To help out `pandas`, use the `replace` command to replace all values of 9999999 with `np.nan`."
   ]
  },
  {
   "cell_type": "code",
   "execution_count": 5,
   "metadata": {
    "colab": {
     "base_uri": "https://localhost:8080/",
     "height": 238
    },
    "id": "pLQh4C9HtWfo",
    "outputId": "07d3ee9f-955f-4eb2-8dfc-7ed8da3798ec"
   },
   "outputs": [
    {
     "data": {
      "text/plain": [
       "222347     9600.0\n",
       "313642        NaN\n",
       "116518     1200.0\n",
       "109834     6700.0\n",
       "262899    49000.0\n",
       "Name: inctot, dtype: float64"
      ]
     },
     "execution_count": 5,
     "metadata": {},
     "output_type": "execute_result"
    }
   ],
   "source": [
    "content[\"inctot\"] = content[\"inctot\"].replace(9999999, np.nan)\n",
    "content[\"inctot\"].sample(5)"
   ]
  },
  {
   "cell_type": "markdown",
   "metadata": {
    "id": "ZJE8NPKEtoeS"
   },
   "source": [
    "### Exercise 5\n",
    "\n",
    "Now that we've properly labeled our missing data as `np.nan`, let's calculate the average US income once more. Store the answer in `results` under the key `\"ex5_avg_income\"`."
   ]
  },
  {
   "cell_type": "code",
   "execution_count": 6,
   "metadata": {
    "colab": {
     "base_uri": "https://localhost:8080/"
    },
    "id": "U1qVufL5ts5F",
    "outputId": "2da5d35b-1595-4a70-8348-31b6b5d2eb89"
   },
   "outputs": [
    {
     "name": "stdout",
     "output_type": "stream",
     "text": [
      "The mean income of our sample size is: 40890.18\n"
     ]
    }
   ],
   "source": [
    "ex5_avg_income = content[\"inctot\"].mean()\n",
    "print(f\"The mean income of our sample size is: {ex5_avg_income:.2f}\")"
   ]
  },
  {
   "cell_type": "markdown",
   "metadata": {
    "id": "bZUv7yHGtxK-"
   },
   "source": [
    "### Exercise 6\n",
    "\n",
    "OK, now we've been able to get a reasonable average income number. As we can see, a major advantage of using `np.nan` is that `pandas` knows that `np.nan` observations should just be ignored when we are calculating means.\n",
    "\n",
    "But it's not enough to just get rid of the people who had `inctot` values of 9999999. We also need to know why those values were missing. Suppose, for example, that the value of 9999999 was used for anyone who made more than 100,000 dollars: if we just dropped those people, then our estimate of average income wouldn't mean much, would it?\n",
    "\n",
    "So let's make sure we understand *why* data is missing for some people. If you recall from our last exercise, it seemed to be the case that most of the people who had incomes of 9999999 were children. Let's make sure that's true by looking at the distribution of the variable `age` for people for whom `inctot` is missing (i.e. subset the data to people with `inctot` missing, then look at the values of `age` with `value_counts()`).\n",
    "\n",
    "Then do the opposite: look at the distribution of the `age` variable for people who whom `inctot` is *not* missing.\n",
    "\n",
    "Can you determine when 9999999 was being used? Is it ok we're excluding those people from our analysis?\n",
    "\n",
    "Note: In this data, Python doesn't understand `age` is a number; it thinks it is a string because the original data has categories like \"90 (90+ in 1980 and 1990)\" and \"less than 1 year old\". So you can't just use `min()` or `max()`. We'll discuss converting string variables into numbers in a future class."
   ]
  },
  {
   "cell_type": "code",
   "execution_count": 7,
   "metadata": {
    "colab": {
     "base_uri": "https://localhost:8080/",
     "height": 484
    },
    "id": "Nx4hoJSjt0NT",
    "outputId": "42f04a41-ca44-4e68-f9fe-6915582191b5"
   },
   "outputs": [
    {
     "data": {
      "text/plain": [
       "age\n",
       "60                      4950\n",
       "54                      4821\n",
       "56                      4776\n",
       "59                      4776\n",
       "58                      4734\n",
       "                        ... \n",
       "10                         0\n",
       "14                         0\n",
       "13                         0\n",
       "less than 1 year old       0\n",
       "4                          0\n",
       "Name: count, Length: 97, dtype: int64"
      ]
     },
     "execution_count": 7,
     "metadata": {},
     "output_type": "execute_result"
    }
   ],
   "source": [
    "# subset the data to people with `inctot` missing, then look at the values of `age` with `value_counts()`\n",
    "\n",
    "missing = content.loc[content[\"inctot\"].isna()]\n",
    "\n",
    "age = missing[\"age\"].value_counts()\n",
    "\n",
    "# Then do the opposite: look at the distribution of the `age` variable for people who whom `inctot` is *not* missing.\n",
    "\n",
    "not_missing = content.loc[~content[\"inctot\"].isna()]\n",
    "\n",
    "age_not_missing = not_missing[\"age\"].value_counts()\n",
    "\n",
    "# Exclude the kids from our dataframe then\n",
    "content = content.loc[\n",
    "    ~content[\"age\"].isin(\n",
    "        [\n",
    "            \"1\",\n",
    "            \"2\",\n",
    "            \"3\",\n",
    "            \"4\",\n",
    "            \"5\",\n",
    "            \"6\",\n",
    "            \"7\",\n",
    "            \"8\",\n",
    "            \"9\",\n",
    "            \"10\",\n",
    "            \"11\",\n",
    "            \"12\",\n",
    "            \"13\",\n",
    "            \"14\",\n",
    "            \"less than 1 year old\",\n",
    "        ]\n",
    "    )\n",
    "]\n",
    "\n",
    "# Check if it worked\n",
    "content.age.value_counts()"
   ]
  },
  {
   "cell_type": "markdown",
   "metadata": {
    "id": "PYM9smV_wRYD"
   },
   "source": []
  },
  {
   "cell_type": "markdown",
   "metadata": {
    "id": "BgP66RYUweUi"
   },
   "source": [
    "### Exercise 7\n",
    "\n",
    "Great, so now we know why those people had missing data, and we're ok with excluding them.\n",
    "\n",
    "But as we previously noted, there are also a lot of observations of zero income in our data, and it's not clear that we want everyone with a zero-income *should* be included in this average, since those may be people who are retired, or in school.\n",
    "\n",
    "Let's limit our attention to people who are currently working by subsetting to only employed respondents. We can do this using `empstat`. Remember you can use `value_counts()` to see what values of `empstat` are in the data!"
   ]
  },
  {
   "cell_type": "code",
   "execution_count": 8,
   "metadata": {
    "colab": {
     "base_uri": "https://localhost:8080/"
    },
    "id": "JhxoMUVNwhPk",
    "outputId": "48d6fc2c-c772-4b98-8bba-1902d56918af"
   },
   "outputs": [
    {
     "name": "stdout",
     "output_type": "stream",
     "text": [
      "        year  datanum  serial      cbserial numprec             subsamp  hhwt  \\\n",
      "296639  2017        1  395593  2.017001e+12       2  first 1% subsample    21   \n",
      "6322    2017        1  527714  2.017000e+12       2                  98    42   \n",
      "300699  2017        1     400  2.017000e+12       2                  68    43   \n",
      "269658  2017        1  953794  2.017000e+12       6                  27    34   \n",
      "30149   2017        1  244955  2.017000e+12       4                  89    50   \n",
      "\n",
      "                                   hhtype       cluster    adjust  ...  \\\n",
      "296639  male householder, no wife present  2.017004e+12  1.011189  ...   \n",
      "6322       hhtype could not be determined  2.017005e+12  1.011189  ...   \n",
      "300699     hhtype could not be determined  2.017000e+12  1.011189  ...   \n",
      "269658    married-couple family household  2.017010e+12  1.011189  ...   \n",
      "30149     married-couple family household  2.017002e+12  1.011189  ...   \n",
      "\n",
      "        migcounty1                 migmet131 vetdisab  \\\n",
      "296639           0  not in identifiable area      n/a   \n",
      "6322             0  not in identifiable area      n/a   \n",
      "300699           0  not in identifiable area      n/a   \n",
      "269658           0  not in identifiable area      n/a   \n",
      "30149            0  not in identifiable area      n/a   \n",
      "\n",
      "                        diffrem                  diffphys  \\\n",
      "296639  no cognitive difficulty  no ambulatory difficulty   \n",
      "6322    no cognitive difficulty  no ambulatory difficulty   \n",
      "300699  no cognitive difficulty  no ambulatory difficulty   \n",
      "269658  no cognitive difficulty  no ambulatory difficulty   \n",
      "30149   no cognitive difficulty  no ambulatory difficulty   \n",
      "\n",
      "                                 diffmob diffcare  \\\n",
      "296639  no independent living difficulty       no   \n",
      "6322    no independent living difficulty       no   \n",
      "300699  no independent living difficulty       no   \n",
      "269658  no independent living difficulty       no   \n",
      "30149   no independent living difficulty       no   \n",
      "\n",
      "                               diffsens  diffeye  diffhear  \n",
      "296639  no vision or hearing difficulty       no        no  \n",
      "6322    no vision or hearing difficulty       no        no  \n",
      "300699  no vision or hearing difficulty       no        no  \n",
      "269658  no vision or hearing difficulty       no        no  \n",
      "30149   no vision or hearing difficulty       no        no  \n",
      "\n",
      "[5 rows x 104 columns]\n"
     ]
    }
   ],
   "source": [
    "employed = content[\"empstat\"].value_counts()\n",
    "\n",
    "content = content.loc[content[\"empstat\"] == \"employed\"]\n",
    "\n",
    "print(content.sample(5))"
   ]
  },
  {
   "cell_type": "markdown",
   "metadata": {
    "id": "RIEvYYATwtZM"
   },
   "source": [
    "### Exercise 8\n",
    "\n",
    "Now let's estimate the racial income gap in the United States. What is the average salary for employed Black Americans, and what is the average salary for employed White Americans? In percentage terms, how much more does the average White American make than the average Black American?\n",
    "\n",
    "**Note:** these values are not quite accurate estimates. As we'll discuss in later lessons, to get completely accurate estimates from the ACS we have to take into account how people were selected to be interviewed. But you get pretty good estimates in most cases even without weights—your estimate of the racial wage gap without weights is within 5\\% of the corrected value.\n",
    "\n",
    "**Note:** This is actually an underestimate of the wage gap. The US Census treats Hispanic respondents as a sub-category of \"White.\" While all ethnic distinctions are socially constructed, and so on some level these distinctions are all deeply problematic, this coding is inconsistent with what most Americans think of when they hear the term \"White,\" a term *most* Americans think of as a category that is mutually exclusive of being Hispanic or Latino (categories which are also usually conflated in American popular discussion). With that in mind, most researchers working with US Census data split \"White\" into \"White, Hispanic\" and \"White, Non-Hispanic\" using `race` *and* `hispan`. But for the moment, just identify \"White\" respondents using the value in `race`.\n",
    "\n",
    "Store your results in `results` under the keys `\"ex8_avg_income_black\"`, `\"ex8_avg_income_white\"`, and the percentage difference as `ex8_racial_difference`. Please note the wording above when calculating the percentage difference to ensure you get the reference category correct, and interpret your result as well."
   ]
  },
  {
   "cell_type": "code",
   "execution_count": 9,
   "metadata": {
    "colab": {
     "base_uri": "https://localhost:8080/"
    },
    "id": "Mc8-kbqZwwaV",
    "outputId": "b4f23fcc-478e-44c3-9e58-370122a719d9"
   },
   "outputs": [
    {
     "name": "stdout",
     "output_type": "stream",
     "text": [
      "The average income of White people is: 60473.15\n",
      "The average income of Black people is: 41747.95\n",
      "The percentage difference in income between the 2 groups is: 44.85%\n"
     ]
    }
   ],
   "source": [
    "content.race.value_counts()\n",
    "\n",
    "white_people = content.loc[content[\"race\"] == \"white\"]\n",
    "ex8_avg_income_white = white_people[\"inctot\"].mean()\n",
    "print(f\"The average income of White people is: {ex8_avg_income_white:.2f}\")\n",
    "\n",
    "black_people = content.loc[content[\"race\"] == \"black/african american/negro\"]\n",
    "ex8_avg_income_black = black_people[\"inctot\"].mean()\n",
    "print(f\"The average income of Black people is: {ex8_avg_income_black:.2f}\")\n",
    "\n",
    "ex8_racial_difference = (\n",
    "    (ex8_avg_income_white - ex8_avg_income_black) / ex8_avg_income_black\n",
    ") * 100\n",
    "print(\n",
    "    f\"The percentage difference in income between the 2 groups is: {ex8_racial_difference:.2f}%\"\n",
    ")"
   ]
  },
  {
   "cell_type": "markdown",
   "metadata": {
    "id": "j1oz3FO6w1wn"
   },
   "source": [
    "### Exercise 9\n",
    "\n",
    "\n",
    "As noted above, these estimates are not actually *quite* correct because we aren't taking into account the fact that when the US Census decided who to survey, not all Americans had the same likelihood of being asked. The US American Community Survey is an example of a *weighted* survey (essentially, people from smaller subpopulations have a higher likelihood of being included to ensure enough individuals in the final survey to constitute a representative sample that can be used statistically).\n",
    "\n",
    "To calculate a weighted average that takes into account these survey weights (in other words, a more accurate estimate of US incomes), you need to use the following formula:\n",
    "\n",
    "$$weighted\\_mean\\_of\\_x = \\frac{\\sum_i x_i * weight_i}{\\sum_i weight_i}$$\n",
    "\n",
    "(As you can see, when $weight_i$ is constant for all observations, this just simplifies to our normal formula for mean values. It is only when weights vary across individuals that weights must be explicitly addressed).\n",
    "\n",
    "In this data, weights are stored in the variable `perwt`, which is the number of people for which each observation is a stand-in (the inverse of that observation's sampling probability).\n",
    "\n",
    "Using the formula, re-calculate the *weighted* average income for both populations and store them as `ex9_avg_income_white` and `ex9_avg_income_black`."
   ]
  },
  {
   "cell_type": "code",
   "execution_count": 10,
   "metadata": {
    "colab": {
     "base_uri": "https://localhost:8080/"
    },
    "id": "f3nE6RTvw6A8",
    "outputId": "359fc844-e3b2-4d30-a13d-e5f9a69b2b94"
   },
   "outputs": [
    {
     "name": "stdout",
     "output_type": "stream",
     "text": [
      "The average weighted income of White people is: 58361.48\n",
      "The average weighted income of Black people is: 40430.95\n"
     ]
    }
   ],
   "source": [
    "def weighted_mean(dataset):\n",
    "    nominator = sum(dataset.inctot * dataset.perwt)\n",
    "    denominator = sum(dataset.perwt)\n",
    "\n",
    "    return nominator / denominator\n",
    "\n",
    "\n",
    "ex9_avg_income_white = weighted_mean(white_people)\n",
    "ex9_avg_income_black = weighted_mean(black_people)\n",
    "\n",
    "print(f\"The average weighted income of White people is: {ex9_avg_income_white:.2f}\")\n",
    "print(f\"The average weighted income of Black people is: {ex9_avg_income_black:.2f}\")"
   ]
  },
  {
   "cell_type": "markdown",
   "metadata": {
    "id": "U8FNIyyDxAvi"
   },
   "source": [
    "### Exercise 10\n",
    "\n",
    "Now calculate the weighted average income gap between *non-Hispanic* White Americans and Black Americans. What percentage more do employed White non-Hispanic Americans earn than employed Black Americans? Store as `\"ex10_wage_gap\"`."
   ]
  },
  {
   "cell_type": "code",
   "execution_count": 11,
   "metadata": {
    "colab": {
     "base_uri": "https://localhost:8080/"
    },
    "id": "lkMKqhvXxEZ-",
    "outputId": "0370bd3a-bc32-4dae-a8bf-d48e9b3ffa12"
   },
   "outputs": [
    {
     "name": "stdout",
     "output_type": "stream",
     "text": [
      "The average weighted income of White non hispanic people is: 61669.29\n",
      "The percentage is: 52.53%\n"
     ]
    }
   ],
   "source": [
    "non_hispanic_white_people = white_people.loc[white_people[\"hispan\"] == \"not hispanic\"]\n",
    "\n",
    "weighted_income_non_hispanic = weighted_mean(non_hispanic_white_people)\n",
    "\n",
    "print(\n",
    "    f\"The average weighted income of White non hispanic people is: {weighted_income_non_hispanic:.2f}\"\n",
    ")\n",
    "\n",
    "ex10_wage_gap = (\n",
    "    (weighted_income_non_hispanic - ex9_avg_income_black) / ex9_avg_income_black\n",
    ") * 100\n",
    "\n",
    "print(f\"The percentage is: {ex10_wage_gap:.2f}%\")"
   ]
  }
 ],
 "metadata": {
  "colab": {
   "authorship_tag": "ABX9TyNB9d6c73G/oyBlXZe/++Iw",
   "include_colab_link": true,
   "provenance": []
  },
  "kernelspec": {
   "display_name": "Python 3",
   "name": "python3"
  },
  "language_info": {
   "codemirror_mode": {
    "name": "ipython",
    "version": 3
   },
   "file_extension": ".py",
   "mimetype": "text/x-python",
   "name": "python",
   "nbconvert_exporter": "python",
   "pygments_lexer": "ipython3",
   "version": "3.12.1"
  }
 },
 "nbformat": 4,
 "nbformat_minor": 0
}
