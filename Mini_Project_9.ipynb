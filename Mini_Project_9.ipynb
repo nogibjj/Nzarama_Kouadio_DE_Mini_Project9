{
  "nbformat": 4,
  "nbformat_minor": 0,
  "metadata": {
    "colab": {
      "provenance": [],
      "authorship_tag": "ABX9TyNB9d6c73G/oyBlXZe/++Iw",
      "include_colab_link": true
    },
    "kernelspec": {
      "name": "python3",
      "display_name": "Python 3"
    },
    "language_info": {
      "name": "python"
    }
  },
  "cells": [
    {
      "cell_type": "markdown",
      "metadata": {
        "id": "view-in-github",
        "colab_type": "text"
      },
      "source": [
        "<a href=\"https://colab.research.google.com/github/nzarama-kouadio/Nzarama_Kouadio_DE_Mini_Project9/blob/main/Mini_Project_9.ipynb\" target=\"_parent\"><img src=\"https://colab.research.google.com/assets/colab-badge.svg\" alt=\"Open In Colab\"/></a>"
      ]
    },
    {
      "cell_type": "code",
      "execution_count": null,
      "metadata": {
        "id": "oLOWc3_hqZ7u"
      },
      "outputs": [],
      "source": []
    },
    {
      "cell_type": "markdown",
      "source": [
        "### Exercise 1\n",
        "\n",
        "Today, we will be using the ACS data we used during out first `pandas` exercise to examine the US income distribution, and how it varies by race. Note that because the US income distribution has a very small number of people with *extremely* high incomes, and the ACS is just a sample of Americans, the far right tail of the distribution will not be very well estimated. However, this data should suffice for helping to understand wealth inequality in the United States.\n",
        "\n",
        "To begin, load the ACS Data we used in our first pandas exercise. That [data can be found here](https://github.com/nickeubank/MIDS_Data/tree/master/US_AmericanCommunitySurvey). We'll be working with `US_ACS_2017_10pct_sample.dta`."
      ],
      "metadata": {
        "id": "wM62GDLcsub7"
      }
    },
    {
      "cell_type": "code",
      "source": [
        "import pandas as pd\n",
        "import numpy as np\n",
        "\n",
        "content = pd.read_stata(\n",
        "    \"https://github.com/nickeubank/MIDS_Data/raw/refs/heads/master/US_AmericanCommunitySurvey/US_ACS_2017_10pct_sample.dta?download=\"\n",
        ")\n",
        "content.sample(5)"
      ],
      "metadata": {
        "colab": {
          "base_uri": "https://localhost:8080/",
          "height": 508
        },
        "id": "Myelo93fsw4f",
        "outputId": "78b7b6a4-d653-4003-f314-bfc8e5006780"
      },
      "execution_count": null,
      "outputs": [
        {
          "output_type": "execute_result",
          "data": {
            "text/plain": [
              "        year  datanum   serial      cbserial numprec subsamp  hhwt  \\\n",
              "135233  2017        1  1145178  2.017001e+12       2      67    53   \n",
              "50440   2017        1   921491  2.017001e+12       3      49    11   \n",
              "119138  2017        1   485384  2.017001e+12       3      29   157   \n",
              "216229  2017        1  1115486  2.017001e+12       2      64    60   \n",
              "222557  2017        1   684252  2.017001e+12       2      70    46   \n",
              "\n",
              "                                        hhtype       cluster    adjust  ...  \\\n",
              "135233         married-couple family household  2.017011e+12  1.011189  ...   \n",
              "50440          married-couple family household  2.017009e+12  1.011189  ...   \n",
              "119138         married-couple family household  2.017005e+12  1.011189  ...   \n",
              "216229  female householder, no husband present  2.017011e+12  1.011189  ...   \n",
              "222557         married-couple family household  2.017007e+12  1.011189  ...   \n",
              "\n",
              "        migcounty1                 migmet131 vetdisab  \\\n",
              "135233           0  not in identifiable area      n/a   \n",
              "50440            0  not in identifiable area      n/a   \n",
              "119138         167  not in identifiable area      n/a   \n",
              "216229           0  not in identifiable area      n/a   \n",
              "222557           0  not in identifiable area      n/a   \n",
              "\n",
              "                         diffrem                   diffphys  \\\n",
              "135233   no cognitive difficulty   no ambulatory difficulty   \n",
              "50440    no cognitive difficulty   no ambulatory difficulty   \n",
              "119138  has cognitive difficulty  has ambulatory difficulty   \n",
              "216229   no cognitive difficulty   no ambulatory difficulty   \n",
              "222557   no cognitive difficulty   no ambulatory difficulty   \n",
              "\n",
              "                                 diffmob diffcare  \\\n",
              "135233  no independent living difficulty       no   \n",
              "50440   no independent living difficulty       no   \n",
              "119138  no independent living difficulty      yes   \n",
              "216229  no independent living difficulty       no   \n",
              "222557  no independent living difficulty       no   \n",
              "\n",
              "                                diffsens  diffeye  diffhear  \n",
              "135233   no vision or hearing difficulty       no        no  \n",
              "50440    no vision or hearing difficulty       no        no  \n",
              "119138  has vision or hearing difficulty      yes       yes  \n",
              "216229   no vision or hearing difficulty       no        no  \n",
              "222557   no vision or hearing difficulty       no        no  \n",
              "\n",
              "[5 rows x 104 columns]"
            ],
            "text/html": [
              "\n",
              "  <div id=\"df-6fccd2db-e5dc-4f34-88a2-be224c1c38b2\" class=\"colab-df-container\">\n",
              "    <div>\n",
              "<style scoped>\n",
              "    .dataframe tbody tr th:only-of-type {\n",
              "        vertical-align: middle;\n",
              "    }\n",
              "\n",
              "    .dataframe tbody tr th {\n",
              "        vertical-align: top;\n",
              "    }\n",
              "\n",
              "    .dataframe thead th {\n",
              "        text-align: right;\n",
              "    }\n",
              "</style>\n",
              "<table border=\"1\" class=\"dataframe\">\n",
              "  <thead>\n",
              "    <tr style=\"text-align: right;\">\n",
              "      <th></th>\n",
              "      <th>year</th>\n",
              "      <th>datanum</th>\n",
              "      <th>serial</th>\n",
              "      <th>cbserial</th>\n",
              "      <th>numprec</th>\n",
              "      <th>subsamp</th>\n",
              "      <th>hhwt</th>\n",
              "      <th>hhtype</th>\n",
              "      <th>cluster</th>\n",
              "      <th>adjust</th>\n",
              "      <th>...</th>\n",
              "      <th>migcounty1</th>\n",
              "      <th>migmet131</th>\n",
              "      <th>vetdisab</th>\n",
              "      <th>diffrem</th>\n",
              "      <th>diffphys</th>\n",
              "      <th>diffmob</th>\n",
              "      <th>diffcare</th>\n",
              "      <th>diffsens</th>\n",
              "      <th>diffeye</th>\n",
              "      <th>diffhear</th>\n",
              "    </tr>\n",
              "  </thead>\n",
              "  <tbody>\n",
              "    <tr>\n",
              "      <th>135233</th>\n",
              "      <td>2017</td>\n",
              "      <td>1</td>\n",
              "      <td>1145178</td>\n",
              "      <td>2.017001e+12</td>\n",
              "      <td>2</td>\n",
              "      <td>67</td>\n",
              "      <td>53</td>\n",
              "      <td>married-couple family household</td>\n",
              "      <td>2.017011e+12</td>\n",
              "      <td>1.011189</td>\n",
              "      <td>...</td>\n",
              "      <td>0</td>\n",
              "      <td>not in identifiable area</td>\n",
              "      <td>n/a</td>\n",
              "      <td>no cognitive difficulty</td>\n",
              "      <td>no ambulatory difficulty</td>\n",
              "      <td>no independent living difficulty</td>\n",
              "      <td>no</td>\n",
              "      <td>no vision or hearing difficulty</td>\n",
              "      <td>no</td>\n",
              "      <td>no</td>\n",
              "    </tr>\n",
              "    <tr>\n",
              "      <th>50440</th>\n",
              "      <td>2017</td>\n",
              "      <td>1</td>\n",
              "      <td>921491</td>\n",
              "      <td>2.017001e+12</td>\n",
              "      <td>3</td>\n",
              "      <td>49</td>\n",
              "      <td>11</td>\n",
              "      <td>married-couple family household</td>\n",
              "      <td>2.017009e+12</td>\n",
              "      <td>1.011189</td>\n",
              "      <td>...</td>\n",
              "      <td>0</td>\n",
              "      <td>not in identifiable area</td>\n",
              "      <td>n/a</td>\n",
              "      <td>no cognitive difficulty</td>\n",
              "      <td>no ambulatory difficulty</td>\n",
              "      <td>no independent living difficulty</td>\n",
              "      <td>no</td>\n",
              "      <td>no vision or hearing difficulty</td>\n",
              "      <td>no</td>\n",
              "      <td>no</td>\n",
              "    </tr>\n",
              "    <tr>\n",
              "      <th>119138</th>\n",
              "      <td>2017</td>\n",
              "      <td>1</td>\n",
              "      <td>485384</td>\n",
              "      <td>2.017001e+12</td>\n",
              "      <td>3</td>\n",
              "      <td>29</td>\n",
              "      <td>157</td>\n",
              "      <td>married-couple family household</td>\n",
              "      <td>2.017005e+12</td>\n",
              "      <td>1.011189</td>\n",
              "      <td>...</td>\n",
              "      <td>167</td>\n",
              "      <td>not in identifiable area</td>\n",
              "      <td>n/a</td>\n",
              "      <td>has cognitive difficulty</td>\n",
              "      <td>has ambulatory difficulty</td>\n",
              "      <td>no independent living difficulty</td>\n",
              "      <td>yes</td>\n",
              "      <td>has vision or hearing difficulty</td>\n",
              "      <td>yes</td>\n",
              "      <td>yes</td>\n",
              "    </tr>\n",
              "    <tr>\n",
              "      <th>216229</th>\n",
              "      <td>2017</td>\n",
              "      <td>1</td>\n",
              "      <td>1115486</td>\n",
              "      <td>2.017001e+12</td>\n",
              "      <td>2</td>\n",
              "      <td>64</td>\n",
              "      <td>60</td>\n",
              "      <td>female householder, no husband present</td>\n",
              "      <td>2.017011e+12</td>\n",
              "      <td>1.011189</td>\n",
              "      <td>...</td>\n",
              "      <td>0</td>\n",
              "      <td>not in identifiable area</td>\n",
              "      <td>n/a</td>\n",
              "      <td>no cognitive difficulty</td>\n",
              "      <td>no ambulatory difficulty</td>\n",
              "      <td>no independent living difficulty</td>\n",
              "      <td>no</td>\n",
              "      <td>no vision or hearing difficulty</td>\n",
              "      <td>no</td>\n",
              "      <td>no</td>\n",
              "    </tr>\n",
              "    <tr>\n",
              "      <th>222557</th>\n",
              "      <td>2017</td>\n",
              "      <td>1</td>\n",
              "      <td>684252</td>\n",
              "      <td>2.017001e+12</td>\n",
              "      <td>2</td>\n",
              "      <td>70</td>\n",
              "      <td>46</td>\n",
              "      <td>married-couple family household</td>\n",
              "      <td>2.017007e+12</td>\n",
              "      <td>1.011189</td>\n",
              "      <td>...</td>\n",
              "      <td>0</td>\n",
              "      <td>not in identifiable area</td>\n",
              "      <td>n/a</td>\n",
              "      <td>no cognitive difficulty</td>\n",
              "      <td>no ambulatory difficulty</td>\n",
              "      <td>no independent living difficulty</td>\n",
              "      <td>no</td>\n",
              "      <td>no vision or hearing difficulty</td>\n",
              "      <td>no</td>\n",
              "      <td>no</td>\n",
              "    </tr>\n",
              "  </tbody>\n",
              "</table>\n",
              "<p>5 rows × 104 columns</p>\n",
              "</div>\n",
              "    <div class=\"colab-df-buttons\">\n",
              "\n",
              "  <div class=\"colab-df-container\">\n",
              "    <button class=\"colab-df-convert\" onclick=\"convertToInteractive('df-6fccd2db-e5dc-4f34-88a2-be224c1c38b2')\"\n",
              "            title=\"Convert this dataframe to an interactive table.\"\n",
              "            style=\"display:none;\">\n",
              "\n",
              "  <svg xmlns=\"http://www.w3.org/2000/svg\" height=\"24px\" viewBox=\"0 -960 960 960\">\n",
              "    <path d=\"M120-120v-720h720v720H120Zm60-500h600v-160H180v160Zm220 220h160v-160H400v160Zm0 220h160v-160H400v160ZM180-400h160v-160H180v160Zm440 0h160v-160H620v160ZM180-180h160v-160H180v160Zm440 0h160v-160H620v160Z\"/>\n",
              "  </svg>\n",
              "    </button>\n",
              "\n",
              "  <style>\n",
              "    .colab-df-container {\n",
              "      display:flex;\n",
              "      gap: 12px;\n",
              "    }\n",
              "\n",
              "    .colab-df-convert {\n",
              "      background-color: #E8F0FE;\n",
              "      border: none;\n",
              "      border-radius: 50%;\n",
              "      cursor: pointer;\n",
              "      display: none;\n",
              "      fill: #1967D2;\n",
              "      height: 32px;\n",
              "      padding: 0 0 0 0;\n",
              "      width: 32px;\n",
              "    }\n",
              "\n",
              "    .colab-df-convert:hover {\n",
              "      background-color: #E2EBFA;\n",
              "      box-shadow: 0px 1px 2px rgba(60, 64, 67, 0.3), 0px 1px 3px 1px rgba(60, 64, 67, 0.15);\n",
              "      fill: #174EA6;\n",
              "    }\n",
              "\n",
              "    .colab-df-buttons div {\n",
              "      margin-bottom: 4px;\n",
              "    }\n",
              "\n",
              "    [theme=dark] .colab-df-convert {\n",
              "      background-color: #3B4455;\n",
              "      fill: #D2E3FC;\n",
              "    }\n",
              "\n",
              "    [theme=dark] .colab-df-convert:hover {\n",
              "      background-color: #434B5C;\n",
              "      box-shadow: 0px 1px 3px 1px rgba(0, 0, 0, 0.15);\n",
              "      filter: drop-shadow(0px 1px 2px rgba(0, 0, 0, 0.3));\n",
              "      fill: #FFFFFF;\n",
              "    }\n",
              "  </style>\n",
              "\n",
              "    <script>\n",
              "      const buttonEl =\n",
              "        document.querySelector('#df-6fccd2db-e5dc-4f34-88a2-be224c1c38b2 button.colab-df-convert');\n",
              "      buttonEl.style.display =\n",
              "        google.colab.kernel.accessAllowed ? 'block' : 'none';\n",
              "\n",
              "      async function convertToInteractive(key) {\n",
              "        const element = document.querySelector('#df-6fccd2db-e5dc-4f34-88a2-be224c1c38b2');\n",
              "        const dataTable =\n",
              "          await google.colab.kernel.invokeFunction('convertToInteractive',\n",
              "                                                    [key], {});\n",
              "        if (!dataTable) return;\n",
              "\n",
              "        const docLinkHtml = 'Like what you see? Visit the ' +\n",
              "          '<a target=\"_blank\" href=https://colab.research.google.com/notebooks/data_table.ipynb>data table notebook</a>'\n",
              "          + ' to learn more about interactive tables.';\n",
              "        element.innerHTML = '';\n",
              "        dataTable['output_type'] = 'display_data';\n",
              "        await google.colab.output.renderOutput(dataTable, element);\n",
              "        const docLink = document.createElement('div');\n",
              "        docLink.innerHTML = docLinkHtml;\n",
              "        element.appendChild(docLink);\n",
              "      }\n",
              "    </script>\n",
              "  </div>\n",
              "\n",
              "\n",
              "<div id=\"df-a144e3f8-fadb-45e9-89e0-50cd0b5a1912\">\n",
              "  <button class=\"colab-df-quickchart\" onclick=\"quickchart('df-a144e3f8-fadb-45e9-89e0-50cd0b5a1912')\"\n",
              "            title=\"Suggest charts\"\n",
              "            style=\"display:none;\">\n",
              "\n",
              "<svg xmlns=\"http://www.w3.org/2000/svg\" height=\"24px\"viewBox=\"0 0 24 24\"\n",
              "     width=\"24px\">\n",
              "    <g>\n",
              "        <path d=\"M19 3H5c-1.1 0-2 .9-2 2v14c0 1.1.9 2 2 2h14c1.1 0 2-.9 2-2V5c0-1.1-.9-2-2-2zM9 17H7v-7h2v7zm4 0h-2V7h2v10zm4 0h-2v-4h2v4z\"/>\n",
              "    </g>\n",
              "</svg>\n",
              "  </button>\n",
              "\n",
              "<style>\n",
              "  .colab-df-quickchart {\n",
              "      --bg-color: #E8F0FE;\n",
              "      --fill-color: #1967D2;\n",
              "      --hover-bg-color: #E2EBFA;\n",
              "      --hover-fill-color: #174EA6;\n",
              "      --disabled-fill-color: #AAA;\n",
              "      --disabled-bg-color: #DDD;\n",
              "  }\n",
              "\n",
              "  [theme=dark] .colab-df-quickchart {\n",
              "      --bg-color: #3B4455;\n",
              "      --fill-color: #D2E3FC;\n",
              "      --hover-bg-color: #434B5C;\n",
              "      --hover-fill-color: #FFFFFF;\n",
              "      --disabled-bg-color: #3B4455;\n",
              "      --disabled-fill-color: #666;\n",
              "  }\n",
              "\n",
              "  .colab-df-quickchart {\n",
              "    background-color: var(--bg-color);\n",
              "    border: none;\n",
              "    border-radius: 50%;\n",
              "    cursor: pointer;\n",
              "    display: none;\n",
              "    fill: var(--fill-color);\n",
              "    height: 32px;\n",
              "    padding: 0;\n",
              "    width: 32px;\n",
              "  }\n",
              "\n",
              "  .colab-df-quickchart:hover {\n",
              "    background-color: var(--hover-bg-color);\n",
              "    box-shadow: 0 1px 2px rgba(60, 64, 67, 0.3), 0 1px 3px 1px rgba(60, 64, 67, 0.15);\n",
              "    fill: var(--button-hover-fill-color);\n",
              "  }\n",
              "\n",
              "  .colab-df-quickchart-complete:disabled,\n",
              "  .colab-df-quickchart-complete:disabled:hover {\n",
              "    background-color: var(--disabled-bg-color);\n",
              "    fill: var(--disabled-fill-color);\n",
              "    box-shadow: none;\n",
              "  }\n",
              "\n",
              "  .colab-df-spinner {\n",
              "    border: 2px solid var(--fill-color);\n",
              "    border-color: transparent;\n",
              "    border-bottom-color: var(--fill-color);\n",
              "    animation:\n",
              "      spin 1s steps(1) infinite;\n",
              "  }\n",
              "\n",
              "  @keyframes spin {\n",
              "    0% {\n",
              "      border-color: transparent;\n",
              "      border-bottom-color: var(--fill-color);\n",
              "      border-left-color: var(--fill-color);\n",
              "    }\n",
              "    20% {\n",
              "      border-color: transparent;\n",
              "      border-left-color: var(--fill-color);\n",
              "      border-top-color: var(--fill-color);\n",
              "    }\n",
              "    30% {\n",
              "      border-color: transparent;\n",
              "      border-left-color: var(--fill-color);\n",
              "      border-top-color: var(--fill-color);\n",
              "      border-right-color: var(--fill-color);\n",
              "    }\n",
              "    40% {\n",
              "      border-color: transparent;\n",
              "      border-right-color: var(--fill-color);\n",
              "      border-top-color: var(--fill-color);\n",
              "    }\n",
              "    60% {\n",
              "      border-color: transparent;\n",
              "      border-right-color: var(--fill-color);\n",
              "    }\n",
              "    80% {\n",
              "      border-color: transparent;\n",
              "      border-right-color: var(--fill-color);\n",
              "      border-bottom-color: var(--fill-color);\n",
              "    }\n",
              "    90% {\n",
              "      border-color: transparent;\n",
              "      border-bottom-color: var(--fill-color);\n",
              "    }\n",
              "  }\n",
              "</style>\n",
              "\n",
              "  <script>\n",
              "    async function quickchart(key) {\n",
              "      const quickchartButtonEl =\n",
              "        document.querySelector('#' + key + ' button');\n",
              "      quickchartButtonEl.disabled = true;  // To prevent multiple clicks.\n",
              "      quickchartButtonEl.classList.add('colab-df-spinner');\n",
              "      try {\n",
              "        const charts = await google.colab.kernel.invokeFunction(\n",
              "            'suggestCharts', [key], {});\n",
              "      } catch (error) {\n",
              "        console.error('Error during call to suggestCharts:', error);\n",
              "      }\n",
              "      quickchartButtonEl.classList.remove('colab-df-spinner');\n",
              "      quickchartButtonEl.classList.add('colab-df-quickchart-complete');\n",
              "    }\n",
              "    (() => {\n",
              "      let quickchartButtonEl =\n",
              "        document.querySelector('#df-a144e3f8-fadb-45e9-89e0-50cd0b5a1912 button');\n",
              "      quickchartButtonEl.style.display =\n",
              "        google.colab.kernel.accessAllowed ? 'block' : 'none';\n",
              "    })();\n",
              "  </script>\n",
              "</div>\n",
              "\n",
              "    </div>\n",
              "  </div>\n"
            ],
            "application/vnd.google.colaboratory.intrinsic+json": {
              "type": "dataframe"
            }
          },
          "metadata": {},
          "execution_count": 5
        }
      ]
    },
    {
      "cell_type": "markdown",
      "source": [
        "### Exercise 2\n",
        "\n",
        "Let's begin by calculating the mean US incomes from this data (recall that income is stored in the `inctot` variable). Store the answer in `results` under the key `\"ex2_avg_income\"`."
      ],
      "metadata": {
        "id": "X0o6WWsTs-9e"
      }
    },
    {
      "cell_type": "code",
      "source": [
        "ex2_avg_income = content[\"inctot\"].mean()\n",
        "print(f\"The average income of our sanmple is: {ex2_avg_income:.2f}\")"
      ],
      "metadata": {
        "colab": {
          "base_uri": "https://localhost:8080/"
        },
        "id": "lwIjTGyMtB-l",
        "outputId": "e4e7edc5-2c4b-4560-aefe-1c3365d34905"
      },
      "execution_count": null,
      "outputs": [
        {
          "output_type": "stream",
          "name": "stdout",
          "text": [
            "The average income of our sanmple is: 1723646.27\n"
          ]
        }
      ]
    },
    {
      "cell_type": "markdown",
      "source": [
        "### Exercise 3\n",
        "\n",
        "Hmmm... That doesn't look right. The average American is definitely not earning that much a year! Let's look at the values of `inctot` using `value_counts()`. Do you see a problem?\n",
        "\n",
        "Now use `value_counts()` with the argument `normalize=True` to see proportions of the sample that report each value instead of the count of people in each category. What percentage of our sample has an income of 9,999,999? Store that proportion (between 0 and 1) as `\"ex3_share_making_9999999\"`. What percentage has an income of 0? Store that proportion as `\"ex3_share_making_zero\"`.\n",
        "\n",
        "(Recall `.value_counts()` returns a Series, so you can pull values out with our usual pandas tools.)"
      ],
      "metadata": {
        "id": "wyNpem0TtHKZ"
      }
    },
    {
      "cell_type": "code",
      "source": [
        "inctot_value_proportions = content[\"inctot\"].value_counts(normalize=True)\n",
        "\n",
        "ex3_share_making_9999999 = inctot_value_proportions.loc[9999999]\n",
        "print(\n",
        "    f\"The proportion of our sample with an income of 9_999_999 is: {ex3_share_making_9999999:.2f}\"\n",
        ")\n",
        "\n",
        "ex3_share_making_zero = inctot_value_proportions.loc[0]\n",
        "print(\n",
        "    f\"The proportion of our sample with an imcome of 0 is: {ex3_share_making_zero:.2f}\"\n",
        ")"
      ],
      "metadata": {
        "colab": {
          "base_uri": "https://localhost:8080/"
        },
        "id": "09jQ-gxAtNXa",
        "outputId": "8bf31389-31ad-4db6-9fd7-ec973036b1df"
      },
      "execution_count": null,
      "outputs": [
        {
          "output_type": "stream",
          "name": "stdout",
          "text": [
            "The proportion of our sample with an income of 9_999_999 is: 0.17\n",
            "The proportion of our sample with an imcome of 0 is: 0.11\n"
          ]
        }
      ]
    },
    {
      "cell_type": "markdown",
      "source": [
        "### Exercise 4\n",
        "\n",
        "As we discussed before, the ACS uses a value of 9999999 to denote that income information is not available for someone. The problem with using this kind of \"sentinel value\" is that pandas doesn't understand that this is supposed to denote missing data, and so when it averages the variable, it doesn't know to ignore 9999999.\n",
        "\n",
        "To help out `pandas`, use the `replace` command to replace all values of 9999999 with `np.nan`."
      ],
      "metadata": {
        "id": "85aZOLY_tRoL"
      }
    },
    {
      "cell_type": "code",
      "source": [
        "content[\"inctot\"] = content[\"inctot\"].replace(9999999, np.nan)\n",
        "content[\"inctot\"].sample(5)"
      ],
      "metadata": {
        "colab": {
          "base_uri": "https://localhost:8080/",
          "height": 238
        },
        "id": "pLQh4C9HtWfo",
        "outputId": "07d3ee9f-955f-4eb2-8dfc-7ed8da3798ec"
      },
      "execution_count": null,
      "outputs": [
        {
          "output_type": "execute_result",
          "data": {
            "text/plain": [
              "136473        NaN\n",
              "48522     85000.0\n",
              "65743     56000.0\n",
              "17488     65100.0\n",
              "244631    23000.0\n",
              "Name: inctot, dtype: float64"
            ],
            "text/html": [
              "<div>\n",
              "<style scoped>\n",
              "    .dataframe tbody tr th:only-of-type {\n",
              "        vertical-align: middle;\n",
              "    }\n",
              "\n",
              "    .dataframe tbody tr th {\n",
              "        vertical-align: top;\n",
              "    }\n",
              "\n",
              "    .dataframe thead th {\n",
              "        text-align: right;\n",
              "    }\n",
              "</style>\n",
              "<table border=\"1\" class=\"dataframe\">\n",
              "  <thead>\n",
              "    <tr style=\"text-align: right;\">\n",
              "      <th></th>\n",
              "      <th>inctot</th>\n",
              "    </tr>\n",
              "  </thead>\n",
              "  <tbody>\n",
              "    <tr>\n",
              "      <th>136473</th>\n",
              "      <td>NaN</td>\n",
              "    </tr>\n",
              "    <tr>\n",
              "      <th>48522</th>\n",
              "      <td>85000.0</td>\n",
              "    </tr>\n",
              "    <tr>\n",
              "      <th>65743</th>\n",
              "      <td>56000.0</td>\n",
              "    </tr>\n",
              "    <tr>\n",
              "      <th>17488</th>\n",
              "      <td>65100.0</td>\n",
              "    </tr>\n",
              "    <tr>\n",
              "      <th>244631</th>\n",
              "      <td>23000.0</td>\n",
              "    </tr>\n",
              "  </tbody>\n",
              "</table>\n",
              "</div><br><label><b>dtype:</b> float64</label>"
            ]
          },
          "metadata": {},
          "execution_count": 6
        }
      ]
    },
    {
      "cell_type": "markdown",
      "source": [
        "### Exercise 5\n",
        "\n",
        "Now that we've properly labeled our missing data as `np.nan`, let's calculate the average US income once more. Store the answer in `results` under the key `\"ex5_avg_income\"`."
      ],
      "metadata": {
        "id": "ZJE8NPKEtoeS"
      }
    },
    {
      "cell_type": "code",
      "source": [
        "ex5_avg_income = content[\"inctot\"].mean()\n",
        "print(f\"The mean income of our sample size is: {ex5_avg_income:.2f}\")"
      ],
      "metadata": {
        "colab": {
          "base_uri": "https://localhost:8080/"
        },
        "id": "U1qVufL5ts5F",
        "outputId": "2da5d35b-1595-4a70-8348-31b6b5d2eb89"
      },
      "execution_count": null,
      "outputs": [
        {
          "output_type": "stream",
          "name": "stdout",
          "text": [
            "The mean income of our sample size is: 40890.18\n"
          ]
        }
      ]
    },
    {
      "cell_type": "markdown",
      "source": [
        "### Exercise 6\n",
        "\n",
        "OK, now we've been able to get a reasonable average income number. As we can see, a major advantage of using `np.nan` is that `pandas` knows that `np.nan` observations should just be ignored when we are calculating means.\n",
        "\n",
        "But it's not enough to just get rid of the people who had `inctot` values of 9999999. We also need to know why those values were missing. Suppose, for example, that the value of 9999999 was used for anyone who made more than 100,000 dollars: if we just dropped those people, then our estimate of average income wouldn't mean much, would it?\n",
        "\n",
        "So let's make sure we understand *why* data is missing for some people. If you recall from our last exercise, it seemed to be the case that most of the people who had incomes of 9999999 were children. Let's make sure that's true by looking at the distribution of the variable `age` for people for whom `inctot` is missing (i.e. subset the data to people with `inctot` missing, then look at the values of `age` with `value_counts()`).\n",
        "\n",
        "Then do the opposite: look at the distribution of the `age` variable for people who whom `inctot` is *not* missing.\n",
        "\n",
        "Can you determine when 9999999 was being used? Is it ok we're excluding those people from our analysis?\n",
        "\n",
        "Note: In this data, Python doesn't understand `age` is a number; it thinks it is a string because the original data has categories like \"90 (90+ in 1980 and 1990)\" and \"less than 1 year old\". So you can't just use `min()` or `max()`. We'll discuss converting string variables into numbers in a future class."
      ],
      "metadata": {
        "id": "bZUv7yHGtxK-"
      }
    },
    {
      "cell_type": "code",
      "source": [
        "# subset the data to people with `inctot` missing, then look at the values of `age` with `value_counts()`\n",
        "\n",
        "missing = content.loc[content[\"inctot\"].isna()]\n",
        "\n",
        "age = missing[\"age\"].value_counts()\n",
        "\n",
        "# Then do the opposite: look at the distribution of the `age` variable for people who whom `inctot` is *not* missing.\n",
        "\n",
        "not_missing = content.loc[~content[\"inctot\"].isna()]\n",
        "\n",
        "age_not_missing = not_missing[\"age\"].value_counts()\n",
        "\n",
        "# Exclude the kids from our dataframe then\n",
        "content = content.loc[\n",
        "    ~content[\"age\"].isin(\n",
        "        [\n",
        "            \"1\",\n",
        "            \"2\",\n",
        "            \"3\",\n",
        "            \"4\",\n",
        "            \"5\",\n",
        "            \"6\",\n",
        "            \"7\",\n",
        "            \"8\",\n",
        "            \"9\",\n",
        "            \"10\",\n",
        "            \"11\",\n",
        "            \"12\",\n",
        "            \"13\",\n",
        "            \"14\",\n",
        "            \"less than 1 year old\",\n",
        "        ]\n",
        "    )\n",
        "]\n",
        "\n",
        "# Check if it worked\n",
        "content.age.value_counts()"
      ],
      "metadata": {
        "colab": {
          "base_uri": "https://localhost:8080/",
          "height": 484
        },
        "id": "Nx4hoJSjt0NT",
        "outputId": "42f04a41-ca44-4e68-f9fe-6915582191b5"
      },
      "execution_count": null,
      "outputs": [
        {
          "output_type": "execute_result",
          "data": {
            "text/plain": [
              "age\n",
              "60                      4950\n",
              "54                      4821\n",
              "59                      4776\n",
              "56                      4776\n",
              "58                      4734\n",
              "                        ... \n",
              "5                          0\n",
              "4                          0\n",
              "3                          0\n",
              "2                          0\n",
              "less than 1 year old       0\n",
              "Name: count, Length: 97, dtype: int64"
            ],
            "text/html": [
              "<div>\n",
              "<style scoped>\n",
              "    .dataframe tbody tr th:only-of-type {\n",
              "        vertical-align: middle;\n",
              "    }\n",
              "\n",
              "    .dataframe tbody tr th {\n",
              "        vertical-align: top;\n",
              "    }\n",
              "\n",
              "    .dataframe thead th {\n",
              "        text-align: right;\n",
              "    }\n",
              "</style>\n",
              "<table border=\"1\" class=\"dataframe\">\n",
              "  <thead>\n",
              "    <tr style=\"text-align: right;\">\n",
              "      <th></th>\n",
              "      <th>count</th>\n",
              "    </tr>\n",
              "    <tr>\n",
              "      <th>age</th>\n",
              "      <th></th>\n",
              "    </tr>\n",
              "  </thead>\n",
              "  <tbody>\n",
              "    <tr>\n",
              "      <th>60</th>\n",
              "      <td>4950</td>\n",
              "    </tr>\n",
              "    <tr>\n",
              "      <th>54</th>\n",
              "      <td>4821</td>\n",
              "    </tr>\n",
              "    <tr>\n",
              "      <th>59</th>\n",
              "      <td>4776</td>\n",
              "    </tr>\n",
              "    <tr>\n",
              "      <th>56</th>\n",
              "      <td>4776</td>\n",
              "    </tr>\n",
              "    <tr>\n",
              "      <th>58</th>\n",
              "      <td>4734</td>\n",
              "    </tr>\n",
              "    <tr>\n",
              "      <th>...</th>\n",
              "      <td>...</td>\n",
              "    </tr>\n",
              "    <tr>\n",
              "      <th>5</th>\n",
              "      <td>0</td>\n",
              "    </tr>\n",
              "    <tr>\n",
              "      <th>4</th>\n",
              "      <td>0</td>\n",
              "    </tr>\n",
              "    <tr>\n",
              "      <th>3</th>\n",
              "      <td>0</td>\n",
              "    </tr>\n",
              "    <tr>\n",
              "      <th>2</th>\n",
              "      <td>0</td>\n",
              "    </tr>\n",
              "    <tr>\n",
              "      <th>less than 1 year old</th>\n",
              "      <td>0</td>\n",
              "    </tr>\n",
              "  </tbody>\n",
              "</table>\n",
              "<p>97 rows × 1 columns</p>\n",
              "</div><br><label><b>dtype:</b> int64</label>"
            ]
          },
          "metadata": {},
          "execution_count": 11
        }
      ]
    },
    {
      "cell_type": "markdown",
      "source": [],
      "metadata": {
        "id": "PYM9smV_wRYD"
      }
    },
    {
      "cell_type": "markdown",
      "source": [
        "### Exercise 7\n",
        "\n",
        "Great, so now we know why those people had missing data, and we're ok with excluding them.\n",
        "\n",
        "But as we previously noted, there are also a lot of observations of zero income in our data, and it's not clear that we want everyone with a zero-income *should* be included in this average, since those may be people who are retired, or in school.\n",
        "\n",
        "Let's limit our attention to people who are currently working by subsetting to only employed respondents. We can do this using `empstat`. Remember you can use `value_counts()` to see what values of `empstat` are in the data!"
      ],
      "metadata": {
        "id": "BgP66RYUweUi"
      }
    },
    {
      "cell_type": "code",
      "source": [
        "employed = content[\"empstat\"].value_counts()\n",
        "\n",
        "content = content.loc[content[\"empstat\"] == \"employed\"]\n",
        "\n",
        "print(content.sample(5))"
      ],
      "metadata": {
        "colab": {
          "base_uri": "https://localhost:8080/"
        },
        "id": "JhxoMUVNwhPk",
        "outputId": "48d6fc2c-c772-4b98-8bba-1902d56918af"
      },
      "execution_count": null,
      "outputs": [
        {
          "output_type": "stream",
          "name": "stdout",
          "text": [
            "        year  datanum   serial      cbserial          numprec subsamp  hhwt  \\\n",
            "307948  2017        1  1244945  2.017001e+12                2      79    62   \n",
            "141755  2017        1   540931  2.017001e+12  1 person record      36    20   \n",
            "45685   2017        1   692845  2.017001e+12                2      79    20   \n",
            "17182   2017        1   461366  2.017001e+12                3      45    77   \n",
            "262304  2017        1  1066261  2.017001e+12                3      86    32   \n",
            "\n",
            "                                  hhtype       cluster    adjust  ...  \\\n",
            "307948    hhtype could not be determined  2.017012e+12  1.011189  ...   \n",
            "141755  female householder, living alone  2.017005e+12  1.011189  ...   \n",
            "45685     hhtype could not be determined  2.017007e+12  1.011189  ...   \n",
            "17182    married-couple family household  2.017005e+12  1.011189  ...   \n",
            "262304   married-couple family household  2.017011e+12  1.011189  ...   \n",
            "\n",
            "        migcounty1                        migmet131  \\\n",
            "307948          85  dallas-fort worth-arlington, tx   \n",
            "141755           0         not in identifiable area   \n",
            "45685            0         not in identifiable area   \n",
            "17182            0         not in identifiable area   \n",
            "262304           0         not in identifiable area   \n",
            "\n",
            "                                  vetdisab                  diffrem  \\\n",
            "307948                                 n/a  no cognitive difficulty   \n",
            "141755  10 or 20 percent disability rating  no cognitive difficulty   \n",
            "45685                                  n/a  no cognitive difficulty   \n",
            "17182                                  n/a  no cognitive difficulty   \n",
            "262304                no disability rating  no cognitive difficulty   \n",
            "\n",
            "                        diffphys                           diffmob diffcare  \\\n",
            "307948  no ambulatory difficulty  no independent living difficulty       no   \n",
            "141755  no ambulatory difficulty  no independent living difficulty       no   \n",
            "45685   no ambulatory difficulty  no independent living difficulty       no   \n",
            "17182   no ambulatory difficulty  no independent living difficulty       no   \n",
            "262304  no ambulatory difficulty  no independent living difficulty       no   \n",
            "\n",
            "                               diffsens  diffeye  diffhear  \n",
            "307948  no vision or hearing difficulty       no        no  \n",
            "141755  no vision or hearing difficulty       no        no  \n",
            "45685   no vision or hearing difficulty       no        no  \n",
            "17182   no vision or hearing difficulty       no        no  \n",
            "262304  no vision or hearing difficulty       no        no  \n",
            "\n",
            "[5 rows x 104 columns]\n"
          ]
        }
      ]
    },
    {
      "cell_type": "markdown",
      "source": [
        "### Exercise 8\n",
        "\n",
        "Now let's estimate the racial income gap in the United States. What is the average salary for employed Black Americans, and what is the average salary for employed White Americans? In percentage terms, how much more does the average White American make than the average Black American?\n",
        "\n",
        "**Note:** these values are not quite accurate estimates. As we'll discuss in later lessons, to get completely accurate estimates from the ACS we have to take into account how people were selected to be interviewed. But you get pretty good estimates in most cases even without weights—your estimate of the racial wage gap without weights is within 5\\% of the corrected value.\n",
        "\n",
        "**Note:** This is actually an underestimate of the wage gap. The US Census treats Hispanic respondents as a sub-category of \"White.\" While all ethnic distinctions are socially constructed, and so on some level these distinctions are all deeply problematic, this coding is inconsistent with what most Americans think of when they hear the term \"White,\" a term *most* Americans think of as a category that is mutually exclusive of being Hispanic or Latino (categories which are also usually conflated in American popular discussion). With that in mind, most researchers working with US Census data split \"White\" into \"White, Hispanic\" and \"White, Non-Hispanic\" using `race` *and* `hispan`. But for the moment, just identify \"White\" respondents using the value in `race`.\n",
        "\n",
        "Store your results in `results` under the keys `\"ex8_avg_income_black\"`, `\"ex8_avg_income_white\"`, and the percentage difference as `ex8_racial_difference`. Please note the wording above when calculating the percentage difference to ensure you get the reference category correct, and interpret your result as well."
      ],
      "metadata": {
        "id": "RIEvYYATwtZM"
      }
    },
    {
      "cell_type": "code",
      "source": [
        "content.race.value_counts()\n",
        "\n",
        "white_people = content.loc[content[\"race\"] == \"white\"]\n",
        "ex8_avg_income_white = white_people[\"inctot\"].mean()\n",
        "print(f\"The average income of White people is: {ex8_avg_income_white:.2f}\")\n",
        "\n",
        "black_people = content.loc[content[\"race\"] == \"black/african american/negro\"]\n",
        "ex8_avg_income_black = black_people[\"inctot\"].mean()\n",
        "print(f\"The average income of Black people is: {ex8_avg_income_black:.2f}\")\n",
        "\n",
        "ex8_racial_difference = (\n",
        "    (ex8_avg_income_white - ex8_avg_income_black) / ex8_avg_income_black\n",
        ") * 100\n",
        "print(\n",
        "    f\"The percentage difference in income between the 2 groups is: {ex8_racial_difference:.2f}%\"\n",
        ")"
      ],
      "metadata": {
        "colab": {
          "base_uri": "https://localhost:8080/"
        },
        "id": "Mc8-kbqZwwaV",
        "outputId": "b4f23fcc-478e-44c3-9e58-370122a719d9"
      },
      "execution_count": null,
      "outputs": [
        {
          "output_type": "stream",
          "name": "stdout",
          "text": [
            "The average income of White people is: 60473.15\n",
            "The average income of Black people is: 41747.95\n",
            "The percentage difference in income between the 2 groups is: 44.85%\n"
          ]
        }
      ]
    },
    {
      "cell_type": "markdown",
      "source": [
        "### Exercise 9\n",
        "\n",
        "\n",
        "As noted above, these estimates are not actually *quite* correct because we aren't taking into account the fact that when the US Census decided who to survey, not all Americans had the same likelihood of being asked. The US American Community Survey is an example of a *weighted* survey (essentially, people from smaller subpopulations have a higher likelihood of being included to ensure enough individuals in the final survey to constitute a representative sample that can be used statistically).\n",
        "\n",
        "To calculate a weighted average that takes into account these survey weights (in other words, a more accurate estimate of US incomes), you need to use the following formula:\n",
        "\n",
        "$$weighted\\_mean\\_of\\_x = \\frac{\\sum_i x_i * weight_i}{\\sum_i weight_i}$$\n",
        "\n",
        "(As you can see, when $weight_i$ is constant for all observations, this just simplifies to our normal formula for mean values. It is only when weights vary across individuals that weights must be explicitly addressed).\n",
        "\n",
        "In this data, weights are stored in the variable `perwt`, which is the number of people for which each observation is a stand-in (the inverse of that observation's sampling probability).\n",
        "\n",
        "Using the formula, re-calculate the *weighted* average income for both populations and store them as `ex9_avg_income_white` and `ex9_avg_income_black`."
      ],
      "metadata": {
        "id": "j1oz3FO6w1wn"
      }
    },
    {
      "cell_type": "code",
      "source": [
        "def weighted_mean(dataset):\n",
        "    nominator = sum(dataset.inctot * dataset.perwt)\n",
        "    denominator = sum(dataset.perwt)\n",
        "\n",
        "    return nominator / denominator\n",
        "\n",
        "\n",
        "ex9_avg_income_white = weighted_mean(white_people)\n",
        "ex9_avg_income_black = weighted_mean(black_people)\n",
        "\n",
        "print(f\"The average weighted income of White people is: {ex9_avg_income_white:.2f}\")\n",
        "print(f\"The average weighted income of Black people is: {ex9_avg_income_black:.2f}\")"
      ],
      "metadata": {
        "colab": {
          "base_uri": "https://localhost:8080/"
        },
        "id": "f3nE6RTvw6A8",
        "outputId": "359fc844-e3b2-4d30-a13d-e5f9a69b2b94"
      },
      "execution_count": null,
      "outputs": [
        {
          "output_type": "stream",
          "name": "stdout",
          "text": [
            "The average weighted income of White people is: 58361.48\n",
            "The average weighted income of Black people is: 40430.95\n"
          ]
        }
      ]
    },
    {
      "cell_type": "markdown",
      "source": [
        "### Exercise 10\n",
        "\n",
        "Now calculate the weighted average income gap between *non-Hispanic* White Americans and Black Americans. What percentage more do employed White non-Hispanic Americans earn than employed Black Americans? Store as `\"ex10_wage_gap\"`."
      ],
      "metadata": {
        "id": "U8FNIyyDxAvi"
      }
    },
    {
      "cell_type": "code",
      "source": [
        "non_hispanic_white_people = white_people.loc[white_people[\"hispan\"] == \"not hispanic\"]\n",
        "\n",
        "weighted_income_non_hispanic = weighted_mean(non_hispanic_white_people)\n",
        "\n",
        "print(\n",
        "    f\"The average weighted income of White non hispanic people is: {weighted_income_non_hispanic:.2f}\"\n",
        ")\n",
        "\n",
        "ex10_wage_gap = (\n",
        "    (weighted_income_non_hispanic - ex9_avg_income_black) / ex9_avg_income_black\n",
        ") * 100\n",
        "\n",
        "print(f\"The percentage is: {ex10_wage_gap:.2f}%\")"
      ],
      "metadata": {
        "colab": {
          "base_uri": "https://localhost:8080/"
        },
        "id": "lkMKqhvXxEZ-",
        "outputId": "0370bd3a-bc32-4dae-a8bf-d48e9b3ffa12"
      },
      "execution_count": null,
      "outputs": [
        {
          "output_type": "stream",
          "name": "stdout",
          "text": [
            "The average weighted income of White non hispanic people is: 61669.29\n",
            "The percentage is: 52.53%\n"
          ]
        }
      ]
    }
  ]
}